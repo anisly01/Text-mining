{
 "cells": [
  {
   "cell_type": "code",
   "execution_count": 1,
   "metadata": {},
   "outputs": [
    {
     "name": "stdout",
     "output_type": "stream",
     "text": [
      "Please enter your name: osy\n",
      "Hello, osy!\n"
     ]
    }
   ],
   "source": [
    "name = input(\"Please enter your name: \") \n",
    "print(\"Hello, \" + name + \"!\")\n"
   ]
  },
  {
   "cell_type": "code",
   "execution_count": 2,
   "metadata": {},
   "outputs": [
    {
     "name": "stdout",
     "output_type": "stream",
     "text": [
      "Please enter your name: uduak\n",
      "Hello, uduak!\n"
     ]
    }
   ],
   "source": [
    "name = input(\"Please enter your name: \") \n",
    "print(\"Hello, \" + name + \"!\")\n"
   ]
  },
  {
   "cell_type": "code",
   "execution_count": 3,
   "metadata": {},
   "outputs": [
    {
     "name": "stdout",
     "output_type": "stream",
     "text": [
      "Tell me something, and I will repeat it back to you: who born you?\n",
      "who born you?\n"
     ]
    }
   ],
   "source": [
    "message = input(\"Tell me something, and I will repeat it back to you: \") \n",
    "print(message)"
   ]
  },
  {
   "cell_type": "code",
   "execution_count": 4,
   "metadata": {},
   "outputs": [
    {
     "name": "stdout",
     "output_type": "stream",
     "text": [
      "If you tell us who you are, we can personalise the messages you see.\n",
      "what is your first name? Osinachiadinma\n",
      "Hello Osinachiadinma!\n"
     ]
    }
   ],
   "source": [
    "prompt = \"If you tell us who you are, we can personalise the messages you see.\"\n",
    "prompt += \"\\nwhat is your first name? \"\n",
    "name = input(prompt)\n",
    "print(\"Hello \" + name + \"!\")"
   ]
  },
  {
   "cell_type": "code",
   "execution_count": 5,
   "metadata": {},
   "outputs": [
    {
     "name": "stdout",
     "output_type": "stream",
     "text": [
      "How tall are you, in inches? 45\n",
      "\n",
      "You are tall enough to ride!\n"
     ]
    }
   ],
   "source": [
    "height = input(\"How tall are you, in inches? \")\n",
    "height = int(height)\n",
    "\n",
    "if height >= 36:\n",
    "    print(\"\\nYou are tall enough to ride!\")\n",
    "else:\n",
    "    print(\"\\nYou'll be able to ride when you're a little older.\")"
   ]
  },
  {
   "cell_type": "code",
   "execution_count": 6,
   "metadata": {},
   "outputs": [
    {
     "name": "stdout",
     "output_type": "stream",
     "text": [
      "How old are you? 19\n",
      "True\n"
     ]
    }
   ],
   "source": [
    "age = input(\"How old are you? \")\n",
    "age = int(age)\n",
    "if age >= 18:\n",
    "    print(\"True\")\n",
    "else:\n",
    "    print(\"false\")"
   ]
  },
  {
   "cell_type": "code",
   "execution_count": 8,
   "metadata": {},
   "outputs": [
    {
     "name": "stdout",
     "output_type": "stream",
     "text": [
      "Enter a number, and I'll tell you if it's even or odd: 9\n",
      "\n",
      "The number 9 is odd.\n"
     ]
    }
   ],
   "source": [
    "number = input(\"Enter a number, and I'll tell you if it's even or odd: \") \n",
    "number = int(number)\n",
    "if number % 2 == 0:    \n",
    "    print(\"\\nThe number \" + str(number) + \" is even.\") \n",
    "else:    \n",
    "    print(\"\\nThe number \" + str(number) + \" is odd.\")\n"
   ]
  },
  {
   "cell_type": "code",
   "execution_count": 11,
   "metadata": {},
   "outputs": [
    {
     "name": "stdout",
     "output_type": "stream",
     "text": [
      "What type of car would you like? Range Rover\n",
      "Let me see if i can find you a Range Rover.\n"
     ]
    }
   ],
   "source": [
    "car = input(\"What type of car would you like? \")\n",
    "print(\"Let me see if i can find you a \" + car + \".\" )"
   ]
  },
  {
   "cell_type": "code",
   "execution_count": 13,
   "metadata": {},
   "outputs": [
    {
     "name": "stdout",
     "output_type": "stream",
     "text": [
      "How many people are in your dinner group? 3\n",
      "\n",
      "Your table is ready.\n"
     ]
    }
   ],
   "source": [
    "dinner = input(\"How many people are in your dinner group? \")\n",
    "dinner = int(dinner)\n",
    "\n",
    "if dinner > 8:\n",
    "    print(\"\\nI'm sorry you will have to wait for a table.\")\n",
    "else:\n",
    "    print(\"\\nYour table is ready.\")"
   ]
  },
  {
   "cell_type": "code",
   "execution_count": 17,
   "metadata": {},
   "outputs": [
    {
     "name": "stdout",
     "output_type": "stream",
     "text": [
      "Enter any number of your choice: 22\n",
      "22 is not a multiple of 10\n"
     ]
    }
   ],
   "source": [
    "number1 = input(\"Enter any number of your choice: \")\n",
    "number1 = int(number1)\n",
    "if number1 % 10 == 0:\n",
    "    print(str(number1) + \" is a multiple of 10\")\n",
    "else:\n",
    "    print(str(number1) + \" is not a multiple of 10\")"
   ]
  },
  {
   "cell_type": "raw",
   "metadata": {},
   "source": [
    "current_number = 1\n",
    "while current_number <= 5:\n",
    "    print(current_number)\n",
    "    current_number += 1\n"
   ]
  },
  {
   "cell_type": "code",
   "execution_count": 18,
   "metadata": {},
   "outputs": [
    {
     "name": "stdout",
     "output_type": "stream",
     "text": [
      "1\n",
      "2\n",
      "3\n",
      "4\n",
      "5\n"
     ]
    }
   ],
   "source": [
    "current_number = 1\n",
    "while current_number <= 5:\n",
    "    print(current_number)\n",
    "    current_number += 1\n"
   ]
  },
  {
   "cell_type": "code",
   "execution_count": 1,
   "metadata": {},
   "outputs": [
    {
     "name": "stdout",
     "output_type": "stream",
     "text": [
      "\n",
      "Tell me something, and I will repeat it back to you:\n",
      "Enter 'quit' to end the program. Uduak is bae\n",
      "Uduak is bae\n",
      "\n",
      "Tell me something, and I will repeat it back to you:\n",
      "Enter 'quit' to end the program. i love my mum\n",
      "i love my mum\n",
      "\n",
      "Tell me something, and I will repeat it back to you:\n",
      "Enter 'quit' to end the program. quit\n"
     ]
    }
   ],
   "source": [
    "prompt = \"\\nTell me something, and I will repeat it back to you:\" \n",
    "prompt += \"\\nEnter 'quit' to end the program. \"\n",
    "message = \"\" \n",
    "while message != 'quit':    \n",
    "    message = input(prompt)        \n",
    "    if message != 'quit':        \n",
    "        print(message)"
   ]
  },
  {
   "cell_type": "code",
   "execution_count": null,
   "metadata": {},
   "outputs": [],
   "source": []
  },
  {
   "cell_type": "code",
   "execution_count": 2,
   "metadata": {},
   "outputs": [
    {
     "name": "stdout",
     "output_type": "stream",
     "text": [
      "\n",
      "Tell me something, and I will repeat it back to you:\n",
      "Enter 'quit' to end the program. i love uduak\n",
      "i love uduak\n",
      "\n",
      "Tell me something, and I will repeat it back to you:\n",
      "Enter 'quit' to end the program. uduak too dey vex\n",
      "uduak too dey vex\n",
      "\n",
      "Tell me something, and I will repeat it back to you:\n",
      "Enter 'quit' to end the program. quit\n"
     ]
    }
   ],
   "source": [
    "prompt = \"\\nTell me something, and I will repeat it back to you:\" \n",
    "prompt += \"\\nEnter 'quit' to end the program. \" \n",
    "active = True\n",
    "while active:    \n",
    "    message = input(prompt)        \n",
    "    if message == 'quit':        \n",
    "        active = False\n",
    "    else:\n",
    "        print(message)"
   ]
  },
  {
   "cell_type": "code",
   "execution_count": 3,
   "metadata": {},
   "outputs": [
    {
     "name": "stdout",
     "output_type": "stream",
     "text": [
      "\n",
      "Please enter the name of a city you have visited: \n",
      "(Enter 'quit' when you are finished)Benin\n",
      "i'd love to go to Benin!\n",
      "\n",
      "Please enter the name of a city you have visited: \n",
      "(Enter 'quit' when you are finished)rome\n",
      "i'd love to go to Rome!\n",
      "\n",
      "Please enter the name of a city you have visited: \n",
      "(Enter 'quit' when you are finished)quit\n"
     ]
    }
   ],
   "source": [
    "prompt = \"\\nPlease enter the name of a city you have visited: \"\n",
    "prompt +=\"\\n(Enter 'quit' when you are finished)\"\n",
    "while True:\n",
    "    city = input(prompt)\n",
    "    if city == 'quit': \n",
    "        break\n",
    "    else:\n",
    "        print(\"i'd love to go to \" + city.title() + \"!\")"
   ]
  },
  {
   "cell_type": "code",
   "execution_count": 4,
   "metadata": {},
   "outputs": [
    {
     "name": "stdout",
     "output_type": "stream",
     "text": [
      "1\n",
      "3\n",
      "5\n",
      "7\n",
      "9\n"
     ]
    }
   ],
   "source": [
    "current_number = 0\n",
    "while current_number < 10:\n",
    "    current_number += 1\n",
    "    if current_number % 2 == 0:\n",
    "        continue\n",
    "    print(current_number)"
   ]
  },
  {
   "cell_type": "code",
   "execution_count": 5,
   "metadata": {},
   "outputs": [
    {
     "name": "stdout",
     "output_type": "stream",
     "text": [
      "1\n",
      "2\n",
      "3\n",
      "4\n",
      "5\n"
     ]
    }
   ],
   "source": [
    "x = 1\n",
    "while x <= 5:\n",
    "    print(x)\n",
    "    x += 1"
   ]
  },
  {
   "cell_type": "code",
   "execution_count": 2,
   "metadata": {},
   "outputs": [
    {
     "name": "stdout",
     "output_type": "stream",
     "text": [
      "0\n",
      "1\n",
      "2\n",
      "3\n",
      "4\n",
      "5\n",
      "6\n",
      "7\n",
      "8\n",
      "9\n",
      "10\n"
     ]
    }
   ],
   "source": [
    "x = 0\n",
    "while x <= 10:\n",
    "    print (x)\n",
    "    x += 1"
   ]
  },
  {
   "cell_type": "code",
   "execution_count": null,
   "metadata": {},
   "outputs": [],
   "source": [
    "prompt = \"Please enter the pizza toppings you want here: \"\n",
    "prompt += \"\\nEnter 'quit' when you are done\"\n",
    "while True:\n",
    "    pizza = input(prompt)\n",
    "    if pizza == 'quit':\n",
    "        break\n",
    "    else:\n",
    "        print(\"i will add \" + pizza + \" toppings to your pizza!\")"
   ]
  },
  {
   "cell_type": "code",
   "execution_count": null,
   "metadata": {},
   "outputs": [
    {
     "name": "stdout",
     "output_type": "stream",
     "text": [
      "Please enter you age here to get a movie ticket: Enter 'quit' when you are done1\n",
      "Your movie ticket is free\n",
      "Please enter you age here to get a movie ticket: Enter 'quit' when you are done2\n",
      "Your movie ticket is free\n",
      "Please enter you age here to get a movie ticket: Enter 'quit' when you are done3\n",
      "Your ticket price is $10\n",
      "Please enter you age here to get a movie ticket: Enter 'quit' when you are done12\n",
      "Your ticket price is $10\n",
      "Please enter you age here to get a movie ticket: Enter 'quit' when you are done13\n",
      "Your ticket price is $15\n"
     ]
    }
   ],
   "source": [
    "prompt1 = (\"Please enter you age here to get a movie ticket: \")\n",
    "prompt1 += (\"Enter 'quit' when you are done\")\n",
    "while True:\n",
    "    age = input(prompt1)\n",
    "    age = int(age)\n",
    "    if age < 3:\n",
    "        print(\"Your movie ticket is free\")\n",
    "    elif age <= 12:\n",
    "        print(\"Your ticket price is $10\")\n",
    "    else:\n",
    "        print(\"Your ticket price is $15\")\n",
    "        "
   ]
  },
  {
   "cell_type": "code",
   "execution_count": 3,
   "metadata": {},
   "outputs": [
    {
     "name": "stdout",
     "output_type": "stream",
     "text": [
      "Please enter the pizza toppings you want here: \n",
      "Enter 'quit' when you are done quit\n"
     ]
    }
   ],
   "source": [
    "prompt1 = \"Please enter the pizza toppings you want here: \"\n",
    "prompt1 += \"\\nEnter 'quit' when you are done \"\n",
    "active = True\n",
    "while active:\n",
    "    pizza = input(prompt1)\n",
    "    if pizza == 'quit':\n",
    "        active = False\n",
    "    else:\n",
    "        print(\"i will add \" + pizza + \" toppings to your pizza!\")"
   ]
  },
  {
   "cell_type": "code",
   "execution_count": 4,
   "metadata": {},
   "outputs": [
    {
     "name": "stdout",
     "output_type": "stream",
     "text": [
      "Please enter the pizza toppings you want here: \n",
      "Enter 'quit' when you are donepepperoni\n",
      "i will add pepperoni toppings to your pizza!\n",
      "Please enter the pizza toppings you want here: \n",
      "Enter 'quit' when you are donequit\n",
      "i will add quit toppings to your pizza!\n"
     ]
    }
   ],
   "source": [
    "prompt = \"Please enter the pizza toppings you want here: \"\n",
    "prompt += \"\\nEnter 'quit' when you are done\"\n",
    "pizza = \"\"\n",
    "while pizza != 'quit':\n",
    "    pizza = input(prompt)\n",
    "    print(\"i will add \" + pizza + \" toppings to your pizza!\")"
   ]
  },
  {
   "cell_type": "code",
   "execution_count": 15,
   "metadata": {},
   "outputs": [
    {
     "name": "stdout",
     "output_type": "stream",
     "text": [
      "Verifying user: Candace\n",
      "Verifying user: Brain\n",
      "Verifying user: Alice\n",
      "\n",
      "The following users have been confirmed: \n",
      "Candace\n",
      "Brain\n",
      "Alice\n"
     ]
    }
   ],
   "source": [
    "unconfirmed_users = ['alice', 'brain', 'candace']\n",
    "confirmed_users = []\n",
    "while unconfirmed_users:\n",
    "    current_user = unconfirmed_users.pop()\n",
    "    print(\"Verifying user: \" + current_user.title())\n",
    "    confirmed_users.append(current_user)\n",
    "print(\"\\nThe following users have been confirmed: \")\n",
    "for confirmed_user in confirmed_users:\n",
    "    print(confirmed_user.title())"
   ]
  },
  {
   "cell_type": "code",
   "execution_count": 17,
   "metadata": {},
   "outputs": [
    {
     "name": "stdout",
     "output_type": "stream",
     "text": [
      "['dog', 'cat', 'dog', 'goldfish', 'cat', 'rabbit', 'cat']\n",
      "['dog', 'dog', 'goldfish', 'rabbit']\n"
     ]
    }
   ],
   "source": [
    "pets = ['dog', 'cat', 'dog', 'goldfish', 'cat', 'rabbit', 'cat']\n",
    "print(pets)\n",
    "while 'cat' in pets:\n",
    "    pets.remove('cat')\n",
    "print(pets)"
   ]
  },
  {
   "cell_type": "code",
   "execution_count": 1,
   "metadata": {},
   "outputs": [
    {
     "name": "stdout",
     "output_type": "stream",
     "text": [
      "\n",
      "What is your name? Sylvester\n",
      "which mountain would you like to climb someday? Mountain Fuji\n",
      "Would you like to let another person respond? (yes/no) yes\n",
      "\n",
      "What is your name? Uduak\n",
      "which mountain would you like to climb someday? Mountain Everest\n",
      "Would you like to let another person respond? (yes/no) yes\n",
      "\n",
      "What is your name? Taofeeq\n",
      "which mountain would you like to climb someday? Mountain Kilimanjaro\n",
      "Would you like to let another person respond? (yes/no) no\n",
      "\n",
      "---Poll Results---\n",
      "Sylvester would like to climb Mountain Fuji.\n",
      "Uduak would like to climb Mountain Everest.\n",
      "Taofeeq would like to climb Mountain Kilimanjaro.\n"
     ]
    }
   ],
   "source": [
    "responses = {}\n",
    "polling_active = True\n",
    "while polling_active:\n",
    "    name = input(\"\\nWhat is your name? \")\n",
    "    response = input(\"which mountain would you like to climb someday? \")\n",
    "    responses[name] = response\n",
    "    repeat = input(\"Would you like to let another person respond? (yes/no) \")\n",
    "    if repeat == 'no':\n",
    "        polling_active = False\n",
    "print(\"\\n---Poll Results---\")\n",
    "for name, response in responses.items():\n",
    "    print(name + \" would like to climb \" + response + \".\")"
   ]
  },
  {
   "cell_type": "code",
   "execution_count": 3,
   "metadata": {},
   "outputs": [
    {
     "name": "stdout",
     "output_type": "stream",
     "text": [
      "I made your Tuna sandwich.\n",
      "I made your pastrami sandwich.\n",
      "I made your Piccle sandwich.\n",
      "I made your belonni sandwich.\n",
      "I made your Peanut butter sandwich.\n",
      "\n",
      "The following sandwich was ordered: \n",
      "Tuna sandwich.\n",
      "pastrami sandwich.\n",
      "Piccle sandwich.\n",
      "belonni sandwich.\n",
      "Peanut butter sandwich.\n"
     ]
    }
   ],
   "source": [
    "sandwich_orders = ['Peanut butter', 'belonni', 'Piccle', 'pastrami','Tuna']\n",
    "finished_sandwiches = []\n",
    "while sandwich_orders:\n",
    "    sandwich = sandwich_orders.pop()\n",
    "    print(\"I made your \" + sandwich + \" sandwich.\")\n",
    "    finished_sandwiches.append(sandwich)\n",
    "print(\"\\nThe following sandwich was ordered: \")\n",
    "for finished_sandwich in finished_sandwiches:\n",
    "    print(finished_sandwich + \" sandwich.\")"
   ]
  },
  {
   "cell_type": "code",
   "execution_count": 4,
   "metadata": {},
   "outputs": [
    {
     "name": "stdout",
     "output_type": "stream",
     "text": [
      "The Deli has run out of Pastrami\n",
      "I made your Tuna sandwich.\n",
      "I made your Piccle sandwich.\n",
      "I made your belonni sandwich.\n",
      "I made your Peanut butter sandwich.\n",
      "\n",
      "The following sandwich was ordered: \n",
      "Tuna sandwich.\n",
      "Piccle sandwich.\n",
      "belonni sandwich.\n",
      "Peanut butter sandwich.\n"
     ]
    }
   ],
   "source": [
    "sandwich_orders = ['Peanut butter', 'pastrami', 'belonni', 'pastrami', 'Piccle', 'pastrami','Tuna']\n",
    "finished_sandwiches = []\n",
    "print(\"The Deli has run out of Pastrami\")\n",
    "while 'pastrami' in sandwich_orders:\n",
    "    sandwich_orders.remove('pastrami')\n",
    "while sandwich_orders:\n",
    "    sandwich = sandwich_orders.pop()\n",
    "    print(\"I made your \" + sandwich + \" sandwich.\")\n",
    "    finished_sandwiches.append(sandwich)\n",
    "print(\"\\nThe following sandwich was ordered: \")\n",
    "for finished_sandwich in finished_sandwiches:\n",
    "    print(finished_sandwich + \" sandwich.\")"
   ]
  },
  {
   "cell_type": "code",
   "execution_count": 5,
   "metadata": {},
   "outputs": [
    {
     "name": "stdout",
     "output_type": "stream",
     "text": [
      "\n",
      "What is your name? Uduak\n",
      "If you could visit one place in the world where will you go? Bali\n",
      "Would you like to let another person respond? (yes/no) yes\n",
      "\n",
      "What is your name? Sylvester\n",
      "If you could visit one place in the world where will you go? Santorini\n",
      "Would you like to let another person respond? (yes/no) Onyinye\n",
      "\n",
      "What is your name? Dubai\n",
      "If you could visit one place in the world where will you go? Dubai\n",
      "Would you like to let another person respond? (yes/no) no\n",
      "\n",
      "---Poll Results---\n",
      "Uduak would like to visit Bali.\n",
      "Sylvester would like to visit Santorini.\n",
      "Dubai would like to visit Dubai.\n"
     ]
    }
   ],
   "source": [
    "responses = {}\n",
    "polling_active = True\n",
    "while polling_active:\n",
    "    name = input(\"\\nWhat is your name? \")\n",
    "    response = input(\"If you could visit one place in the world where will you go? \")\n",
    "    responses[name] = response\n",
    "    repeat = input(\"Would you like to let another person respond? (yes/no) \")\n",
    "    if repeat == 'no':\n",
    "        polling_active = False\n",
    "print(\"\\n---Poll Results---\")\n",
    "for name, response in responses.items():\n",
    "    print(name + \" would like to visit \" + response + \".\")"
   ]
  },
  {
   "cell_type": "code",
   "execution_count": 1,
   "metadata": {},
   "outputs": [
    {
     "name": "stdout",
     "output_type": "stream",
     "text": [
      "Hello!\n"
     ]
    }
   ],
   "source": [
    "def greet_user():\n",
    "    \"\"\"\"Display a simple greeting.\"\"\"\n",
    "    print(\"Hello!\")\n",
    "greet_user()"
   ]
  },
  {
   "cell_type": "code",
   "execution_count": 2,
   "metadata": {},
   "outputs": [
    {
     "name": "stdout",
     "output_type": "stream",
     "text": [
      "Hello, Jesse!\n"
     ]
    }
   ],
   "source": [
    "def greet_user(username):\n",
    "    \"\"\"\"Display a simple greeting.\"\"\"\n",
    "    print(\"Hello, \" + username.title() + \"!\")\n",
    "greet_user('jesse')"
   ]
  },
  {
   "cell_type": "code",
   "execution_count": 3,
   "metadata": {},
   "outputs": [
    {
     "name": "stdout",
     "output_type": "stream",
     "text": [
      "Hello, Sarah!\n"
     ]
    }
   ],
   "source": [
    "greet_user('sarah')"
   ]
  },
  {
   "cell_type": "code",
   "execution_count": 4,
   "metadata": {},
   "outputs": [
    {
     "name": "stdout",
     "output_type": "stream",
     "text": [
      "I am learning about the use of functions in python\n"
     ]
    }
   ],
   "source": [
    "def display_message():\n",
    "    \"\"\"\"Display a summary of what you are learning here.\"\"\"\n",
    "    print(\"I am learning about the use of functions in python\")\n",
    "display_message()"
   ]
  },
  {
   "cell_type": "code",
   "execution_count": 5,
   "metadata": {},
   "outputs": [
    {
     "name": "stdout",
     "output_type": "stream",
     "text": [
      "One of my favourite books is How To Make Friends And Influence People!\n"
     ]
    }
   ],
   "source": [
    "def favourite_books(title):\n",
    "    \"\"\"\"A fuction to take a book title as input for a displayed output\"\"\"\n",
    "    print(\"One of my favourite books is \" + title.title() + \"!\")\n",
    "favourite_books(\"how to make friends and influence people\")"
   ]
  },
  {
   "cell_type": "code",
   "execution_count": null,
   "metadata": {},
   "outputs": [],
   "source": []
  }
 ],
 "metadata": {
  "kernelspec": {
   "display_name": "Python 3",
   "language": "python",
   "name": "python3"
  },
  "language_info": {
   "codemirror_mode": {
    "name": "ipython",
    "version": 3
   },
   "file_extension": ".py",
   "mimetype": "text/x-python",
   "name": "python",
   "nbconvert_exporter": "python",
   "pygments_lexer": "ipython3",
   "version": "3.7.3"
  }
 },
 "nbformat": 4,
 "nbformat_minor": 2
}
