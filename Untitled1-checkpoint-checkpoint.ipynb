{
 "cells": [
  {
   "cell_type": "code",
   "execution_count": 1,
   "metadata": {},
   "outputs": [
    {
     "data": {
      "text/plain": [
       "(79, 2)"
      ]
     },
     "execution_count": 1,
     "metadata": {},
     "output_type": "execute_result"
    }
   ],
   "source": [
    "import pandas as pd\n",
    "df = pd.read_excel('MIS-Volume6.xlsx')\n",
    "df\n",
    "df.shape"
   ]
  },
  {
   "cell_type": "code",
   "execution_count": 2,
   "metadata": {},
   "outputs": [
    {
     "name": "stderr",
     "output_type": "stream",
     "text": [
      "C:\\Users\\Chukwudi\\Anaconda3\\lib\\site-packages\\sklearn\\utils\\deprecation.py:143: FutureWarning: The sklearn.semi_supervised.label_propagation module is  deprecated in version 0.22 and will be removed in version 0.24. The corresponding classes / functions should instead be imported from sklearn.semi_supervised. Anything that cannot be imported from sklearn.semi_supervised is now part of the private API.\n",
      "  warnings.warn(message, FutureWarning)\n",
      "C:\\Users\\Chukwudi\\Anaconda3\\lib\\site-packages\\sklearn\\base.py:334: UserWarning: Trying to unpickle estimator LabelPropagation from version 0.18 when using version 0.23.2. This might lead to breaking code or invalid results. Use at your own risk.\n",
      "  UserWarning)\n"
     ]
    }
   ],
   "source": [
    "from normalise import normalise\n",
    "normalized_tokens = []\n",
    "for d in df['Description']:\n",
    "    normalized_tokens.append(normalise(d, verbose=False))"
   ]
  },
  {
   "cell_type": "code",
   "execution_count": 3,
   "metadata": {},
   "outputs": [],
   "source": [
    "import string\n",
    "normalized_tokens = [[w.lower() for w in doc] for doc in normalized_tokens]\n",
    "res = list(map(' '.join, normalized_tokens))\n",
    "df['Description'] = res "
   ]
  },
  {
   "cell_type": "code",
   "execution_count": 4,
   "metadata": {},
   "outputs": [],
   "source": [
    "# word tokenize\n",
    "from nltk.tokenize import word_tokenize\n",
    "tokenized_words = [word_tokenize(doc) for doc in df['Description']]"
   ]
  },
  {
   "cell_type": "code",
   "execution_count": 5,
   "metadata": {},
   "outputs": [],
   "source": [
    "import re\n",
    "regex = re.compile('[%s]' % re.escape(string.punctuation)) \n",
    "\n",
    "tokenized_docs_no_punctuation = []\n",
    "\n",
    "for review in tokenized_words:\n",
    "    new_review = []\n",
    "    for token in review:\n",
    "        new_token = regex.sub(u'', token)\n",
    "        if not new_token == u'':\n",
    "            new_review.append(new_token)\n",
    "    \n",
    "    tokenized_docs_no_punctuation.append(new_review)"
   ]
  },
  {
   "cell_type": "code",
   "execution_count": 6,
   "metadata": {},
   "outputs": [],
   "source": [
    "# Cleaning text of stopwords\n",
    "from nltk.corpus import stopwords\n",
    "\n",
    "tokenized_docs_no_stopwords = []\n",
    "\n",
    "for doc in tokenized_docs_no_punctuation:\n",
    "    new_term_vector = []\n",
    "    for word in doc:\n",
    "        if not word in stopwords.words('english'):\n",
    "            new_term_vector.append(word)\n",
    "    \n",
    "    tokenized_docs_no_stopwords.append(new_term_vector)"
   ]
  },
  {
   "cell_type": "code",
   "execution_count": 7,
   "metadata": {},
   "outputs": [],
   "source": [
    "#Lemmatization\n",
    "from nltk.stem.wordnet import WordNetLemmatizer\n",
    "\n",
    "wordnet = WordNetLemmatizer()\n",
    "\n",
    "preprocessed_docs = []\n",
    "\n",
    "for doc in tokenized_docs_no_stopwords:\n",
    "    final_doc = []\n",
    "    for word in doc:\n",
    "        final_doc.append(wordnet.lemmatize(word))\n",
    "    \n",
    "    preprocessed_docs.append(final_doc)"
   ]
  },
  {
   "cell_type": "code",
   "execution_count": 8,
   "metadata": {},
   "outputs": [
    {
     "name": "stdout",
     "output_type": "stream",
     "text": [
      "[['cell', 'structure', 'organization', 'function', 'cellular', 'organelle', 'diversity', 'characteristic', 'classification', 'living', 'thing', 'general', 'reproduction', 'interrelationship', 'organism', 'heredity', 'evolution', 'element', 'ecology', 'type', 'habitat'], ['review', 'probability', 'measure', 'uncertainty', 'sample', 'point', 'event', 'combination', 'event', 'binomial', 'exponential', 'normal', 'gamma', 'chi', 'squared', 'distribution', 'probability', 'function', 'mean', 'variance', 'moment', 'generating', 'function', 'joint', 'probability', 'distribution', 'joint', 'probability', 'density', 'function', 'marginal', 'distribution', 'expected', 'value', 'covariance', 'correlation', 'statistical', 'independence', 'transformation', 'variable', 'moment', 'moment', 'generating', 'function', 'linear', 'combination', 'random', 'variable', 'multinomial', 'normal', 'bivariate', 'distribution', 'sampling', 'distribution', 'two', 'central', 'limit', 'theorem', 'approximation', 'discrete', 'distribution', 'sampling', 'distribution', 'f', 'point', 'estimation', 'bias', 'unbiased', 'estimator', 'principle', 'minimum', 'variance', 'unbiased', 'estimation', 'method', 'moment', 'maximum', 'likelihood', 'estimation', 'interval', 'estimation', 'population', 'mean', 'difference', 'two', 'population', 'mean', 'using', 'z', 'distribution', 'distribution'], ['basic', 'data', 'type', 'vector', 'array', 'data', 'structure', 'matrix', 'matrix', 'operation', 'list', 'data', 'frame', 'structure', 'structure', 'flow', 'control', 'looping', 'conditioning', 'calculation', 'data', 'iteration', 'repeat', 'similar', 'calculation', 'avoiding', 'iteration', 'vectorized', 'operation', 'function', 'declaring', 'function', 'tie', 'together', 'related', 'command', 'argument', 'return', 'value', 'named', 'argument', 'default', 'interface', 'r', 'example', 'comment', 'using', 'multiple', 'function', 'related', 'task', 'use', 'work', 'break', 'big', 'problem', 'smaller', 'one', 'r', 'example', 'comment', 'function', 'writing', 'top', 'design', 'testing', 'top', 'design', 'recursive', 'solving', 'problem', 'writing', 'function', 'integrate', 'work', 'sub', 'function', 'solve', 'sub', 'problem', 'example', 'linear', 'regression', 'testing', 'purpose', 'testing', 'test', 'particular', 'case', 'v', 'cross', 'checking', 'test', 'cycling', 'testing', 'programming', 'function', 'object', 'r', 'split_apply', 'combine', 'pattern', 'using', 'base', 'r', 'idea', 'design', 'pattern', 'benefit', 'clarity', 'used', 'split_apply', 'combine', 'pattern', 'break', 'large', 'data', 'set', 'smaller', 'meaningful', 'piece', 'apply', 'analysis', 'piece', 'combine', 'answer', 'iteration', 'painful', 'clumsy', 'way', 'split_apply', 'combined', 'tool', 'split_apply', 'combine', 'basic', 'r', 'apply', 'function', 'array', 'lapplyfor', 'list', 'apply', 'etc', 'split', 'detailed', 'example', 'complicated', 'data', 'set', 'relation', 'strike', 'parliamentary', 'politics', 'split_apply', 'combine', 'using', 'per', 'abstracting', 'split_apply', 'combine', 'pattern', 'using', 'single', 'function', 'appropriately', 'split', 'input', 'apply', 'function', 'combine', 'result', 'depending', 'type', 'input', 'output', 'data', 'syntax', 'detail', 'example', 'standardizing', 'measurement', 'regularly', 'sampled', 'spatial', 'data', 'standardizing', 'measurement', 'irregularly', 'sampled', 'spatial', 'data', 'fun', 'strike', 'left', 'wing', 'politics', 'refactoring', 'rhenium', 'working', 'code', 'make', 'clearer', 'meaningful', 'easily', 'fixed', 'extended', 'simulation', 'random', 'variable', 'generation', 'simulation', 'monte', 'carlo', 'markov', 'chain', 'markov', 'chain', 'monte', 'carlo', 'stochastic', 'constrained', 'optimization', 'difficulty', 'optimizing', 'statistical', 'function', 'data', 'large', 'sampling', 'alternative', 'averaging', 'whole', 'data', 'stochastic', 'gradient', 'descent', 'stochastic', 'newton', 'method', 'application', 'sampling'], ['create', 'manage', 'document', 'format', 'text', 'paragraph', 'section', 'create', 'table', 'list', 'apply', 'reference', 'insert', 'format', 'object'], ['oracle', 'structured', 'query', 'language', 'restricting', 'sorting', 'data', 'using', 'single', 'row', 'function', 'customize', 'output', 'using', 'conversion', 'function', 'conditional', 'expression', 'reporting', 'aggregated', 'data', 'using', 'group', 'function', 'displaying', 'data', 'multiple', 'table', 'using', 'subqueries', 'solve', 'query', 'using', 'set', 'operator', 'manipulating', 'data', 'using', 'l', 'statement', 'create', 'manage', 'table', 'managing', 'object', 'data', 'dictionary', 'view', 'controlling', 'user', 'access', 'managing', 'schema', 'object', 'manipulating', 'large', 'data', 'set'], ['understanding', 'treat', 'security', 'risk', 'society', 'enterprise', 'security', 'domain', 'data', 'application', 'security', 'aspect', 'mobile', 'business', 'analytics', 'data', 'management'], ['understanding', 'treat', 'security', 'risk', 'society', 'enterprise', 'security', 'domain', 'data', 'application', 'security', 'aspect', 'mobile', 'business', 'analytics', 'data', 'management'], ['introduction', 'definition', 'primitive', 'polygonal', 'modelling', 'subdivision', 'surface', 'n', 'u', 'r', 'b', 'image', 'type', 'creating', 'scene', 'using', 'three', 'software', 'e_g', 'maya', 'three', 'max', 'hardware', 'aspect', 'plotter', 'microfilm', 'plotter', 'display', 'graphic', 'tablet', 'light', 'pen', 'graphical', 'input', 'aid', 'facsimile', 'problem', 'refresh', 'display', 'refresh', 'hugger', 'changing', 'image', 'light', 'pen', 'interaction', 'two', 'three', 'dimensional', 'transformation', 'perspective', 'clipping', 'algorithm', 'hidden', 'line', 'removal', 'folded', 'surface', 'removal', 'method', 'shading', 'data', 'reduction', 'graphical', 'input', 'introduction', 'writing', 'character', 'recognition', 'curve', 'synthesis', 'fitting', 'contouring', 'ring', 'structure', 'versus', 'doubly', 'linked', 'list', 'hierarchical', 'structure', 'data', 'structure', 'organization', 'interactive', 'graphic', 'creating', 'keyframe', 'animation', 'motion', 'path', 'animation', 'dynamic', 'animation', 'creating', 'simple', 'scene', 'complex', 'scene', 'painting', 'et', 'animating', 'object', 'rendering'], ['definition', 'computer', 'science', 'history', 'computer', 'science', 'generation', 'computer', 'hardware', 'functional', 'component', 'modern', 'unit', 'software', 'operating', 'system', 'application', 'package', 'program', 'development', 'flowchart', 'algorithm', 'program', 'object', 'basic', 'visual', 'basic', 'fundamental'], ['problem', 'solving', 'strategy', 'role', 'algorithm', 'problem', 'solving', 'process', 'implementation', 'strategy', 'concept', 'property', 'algorithm', 'using', 'century', 'language'], ['overview', 'role', 'purpose', 'functionality', 'mechanism', 'support', 'client', 'server', 'model', 'hand', 'held', 'device', 'design', 'issue', 'influence', 'security', 'networking', 'multimedia', 'window', 'principle', 'structuring', 'method', 'abstraction', 'process', 'recourse', 'concept', 'apis', 'device', 'organization', 'interrupted'], ['introduction', 'problem', 'solving', 'method', 'algorithm', 'development', 'designing', 'coding', 'bugging', 'documenting', 'programme', 'using', 'technique', 'good', 'programming', 'language', 'style', 'programming', 'language', 'programming', 'algorithm', 'development', 'widely', 'used', 'programming', 'language', 'used', 'teaching', 'e_g', 'language'], ['structured', 'programming', 'element', 'structured', 'design', 'principle', 'abstraction', 'popularity', 'stepwise', 'refinement', 'structured', 'design', 'technique', 'teaching', 'structured', 'programming', 'language', 'et'], ['information', 'storage', 'retrieval', 'information', 'management', 'application', 'information', 'capture', 'representation', 'analysis', 'indexing', 'search', 'retrieval', 'information', 'privacy', 'integrity', 'security', 'efficiency', 'effectiveness', 'introduction', 'database', 'system', 'component', 'database', 'system', 'b', 'function', 'database', 'architecture', 'data', 'independence', 'use', 'database', 'query', 'language', 'overview', 'database', 'system', 'model', 'schema', 'instance', 'database', 'system', 'v', 'file', 'system', 'data', 'abstraction', 'level', 'database', 'language', 'system', 'architecture', 'classification', 'b', 'data', 'modeling', 'entity', 'relationship', 'model', 'entity', 'entity', 'type', 'relationship', 'relationship', 'type', 'constraint', 'weak', 'entity', 'type', 'er', 'diagram', 'semantic', 'object', 'model', 'process', 'database', 'design', 'requirement', 'analysis', 'conceptual', 'database', 'design', 'database', 'schema', 'design', 'database', 'design', 'using', 'entity', 'relationship', 'semantic', 'object', 'model', 'database', 'application', 'design'], ['principle', 'good', 'programming', 'structured', 'programming', 'concept', 'debugging', 'testing', 'string', 'processing', 'internal', 'searching', 'sorting', 'recursion', 'use', 'programming', 'language', 'different', 'c', 'c', 'two', 'zero', 'one', 'e_g'], ['overview', 'role', 'purpose', 'functionality', 'mechanism', 'support', 'client', 'server', 'model', 'handhold', 'device', 'design', 'issue', 'influence', 'security', 'networking', 'multimedia', 'window', 'principle', 'structuring', 'method', 'abstraction', 'process', 'resource', 'concept', 'apis', 'device', 'organization', 'interrupted', 'concurrency', 'state', 'state', 'diagram', 'structure', 'dispatching', 'context', 'switching', 'interrupt', 'concurrent', 'execution', 'mutual', 'exclusion', 'problem', 'solution', 'deadlock', 'model', 'mechanism', 'monitor', 'producer', 'consumer', 'problem', 'synchronization', 'multiprocessor', 'issue', 'scheduling', 'dispatching', 'memory', 'management', 'overlay', 'swapping', 'partition', 'paging', 'segmentation', 'placement', 'replacement', 'policy', 'working', 'set', 'trashing', 'caching'], ['vector', 'space', 'real', 'field', 'subspace', 'linear', 'independence', 'basis', 'dimension', 'linear', 'transformation', 'representation', 'matrix', 'range', 'null', 'space', 'rank', 'singular', 'non', 'singular', 'transformation', 'matrix', 'algebra', 'matrix'], ['system', 'linear', 'equation', 'change', 'basis', 'equivalence', 'similarity', 'eigenvalue', 'eigenvectors', 'minimum', 'characteristic', 'polynomial', 'linear', 'transformation', 'caley', 'hamilton', 'theorem', 'bilinear', 'quadratic', 'form', 'orthogonal', 'diagonalisation', 'canonical', 'form'], ['distributed', 'computing', 'mobile', 'wireless', 'computing', 'network', 'security', 'client', 'server', 'computing', 'using', 'building', 'web', 'application'], ['primitive', 'type', 'array', 'record', 'string', 'string', 'processing', 'data', 'representation', 'memory', 'stack', 'heap', 'allocation', 'queue', 'tree', 'implementation', 'strategy', 'stack', 'queue', 'tree', 'run', 'time', 'storage', 'management', 'pointer', 'reference', 'linked', 'structure'], ['basic', 'p', 'concept', 'class', 'object', 'inheritance', 'polymorphism', 'data', 'abstraction', 'tool', 'developing', 'compiling', 'interpreting', 'bugging', 'java', 'program', 'java', 'syntax', 'data', 'object', 'operator', 'central', 'flow', 'construct', 'object', 'class', 'programming', 'array', 'method', 'exception', 'applet', 'abstract', 'ole', 'persistence', 'window', 'toolkit', 'laboratory', 'exercise', 'p', 'language'], ['system', 'concept', 'system', 'development', 'life', 'cycle', 'analysis', 'fact', 'gathering', 'technique', 'data', 'flow', 'diagram', 'process', 'description', 'data', 'modeling', 'system', 'design', 'structure', 'chart', 'form', 'design', 'security', 'automated', 'tool', 'design', 'system', 'development', 'technique', 'methodology'], ['overview', 'operation', 'research', 'modeling', 'approach', 'linear', 'programming', 'model', 'assumption', 'linear', 'programming', 'simplex', 'method', 'two', 'phase', 'method', 'artificial', 'variable', 'technique', 'minimization', 'maximization', 'two', 'phase', 'method', 'transportation', 'simplex', 'method', 'tableau', 'initialization', 'optimality', 'test', 'iteration', 'assignment', 'problem', 'formulation', 'solution', 'directed', 'network', 'shortest', 'path', 'problem', 'algorithm', 'minimum', 'spanning', 'tree', 'problem', 'maximum', 'cost', 'flow', 'problem', 'minimum', 'cost', 'flow', 'problem', 'network', 'simplex', 'method', 'project', 'planning', 'control', 'p', 'e', 'r', 'c', 'p', 'deterministic', 'model', 'continuous', 'review', 'economic', 'order', 'quality', 'model', 'periodic', 'review', 'production', 'planning', 'stochastic', 'model', 'single', 'period', 'model', 'two', 'period', 'inventory', 'model', 'multi', 'period', 'model', 'one', 'dimensional', 'search', 'golden', 'section', 'search', 'derivation', 'taylor', 'series', 'condition', 'local', 'optimum', 'convex', 'concave', 'function', 'global', 'optimality', 'gradient', 'search', 'newton', 'method', 'quasi', 'network', 'method', 'b', 'f', 'g', 'search', 'lagrange', 'multiplier', 'method', 'karush', 'kuhu', 'tucker', 'optimality', 'condition', 'penalty', 'barrier', 'method'], ['software', 'design', 'software', 'architecture', 'design', 'pattern', 'analysis', 'design', 'design', 'used', 'using', 'apis', 'p', 'programming', 'class', 'browser', 'related', 'tool', 'component', 'based', 'computing', 'software', 'tool', 'environment', 'requirement', 'analysis', 'design', 'modeling', 'tool', 'testing', 'tool', 'tool', 'integration', 'much'], ['introduction', 'artificial', 'intelligence', 'understanding', 'natural', 'language', 'knowledge', 'representation', 'expert', 'system', 'pattern', 'recognition', 'language', 'l', 'p'], ['introduction', 'objective', 'privacy', 'ethic', 'risk', 'analysis', 'computer', 'security', 'threat', 'security', 'security', 'measure', 'physical', 'protection', 'natural', 'disaster', 'physical', 'facility', 'access', 'hardware', 'software', 'security', 'control', 'virus', 'trojan', 'horse', 'worm', 'logic', 'encryption', 'cryptography', 'technique', 'developing', 'secured', 'computer', 'system', 'external', 'security', 'measure', 'issue', 'security', 'model', 'specification', 'verification', 'bell', 'louisiana', 'padulla', 'model', 'clark', 'wilson', 'model', 'goguen', 'meseguer', 'discretionary', 'access', 'requirement', 'mandatory', 'access', 'requirement', 'user', 'authentication', 'access', 'information', 'flow', 'control', 'auditing', 'intrusion', 'detection', 'damage', 'control', 'assessment', 'microcomputer', 'security', 'network', 'telecommunication', 'security', 'fundamental', 'issue', 'objective', 'threat', 'security', 'service', 'distributed', 'system', 'security', 'trusted', 'network', 'interpretation', 'n', 'security', 'service', 'ai', 'interconnection', 'issue', 'firewall', 'gateway', 'application', 'cost', 'effectiveness', 'database', 'security', 'security', 'requirement', 'database', 'designing', 'security', 'method', 'protection', 'security', 'multilevel', 'database', 'legal', 'issue', 'current', 'legislation', 'computer', 'crime', 'software', 'violation', 'crime', 'privacy', 'consideration', 'corporate', 'policy', 'managerial', 'issue', 'government', 'based', 'security', 'standard'], ['introduction', 'ware', 'fourier', 'analysis', 'measure', 'communication', 'channel', 'characteristic', 'transmission', 'medium', 'noise', 'distortion', 'modulation', 'demodulation', 'multiplying', 'f', 'f', 'c', 'parallel', 'serial', 'transmission', 'synchronous', 'v', 'bus', 'structure', 'loop', 'system', 'computer', 'network', 'example', 'design', 'consideration', 'data', 'switching', 'principle', 'broadcast', 'technique', 'network', 'structure', 'packet', 'switching', 'protocol', 'description', 'network', 'e_g', 'r', 'p', 'n', 'e', 'etc'], ['basic', 'definition', 'us', 'simulation', 'process', 'basic', 'statistic', 'distribution', 'theory', 'model', 'simulation', 'queue', 'basic', 'component', 'kendal', 'notation', 'queuing', 'rule', 'law', 'queuing', 'network', 'special', 'type', 'queue', 'stochastic', 'process', 'discrete', 'state', 'continuous', 'state', 'process', 'markov', 'process', 'birth', 'death', 'process', 'poisson', 'process', 'random', 'number', 'type', 'random', 'number', 'exercise'], ['measurement', 'technique', 'simulation', 'technique', 'technique', 'workload', 'characterization', 'performance', 'evaluation', 'selection', 'problem', 'performance', 'evaluation', 'design', 'problem', 'evaluation', 'programmer', 'performance'], ['introduction', 'definition', 'motivation', 'communication', 'mechanism', 'communication', 'protocol', 'r', 'p', 'c', 'r', 'stream', 'oriented', 'communication', 'synchronization', 'global', 'state', 'election', 'distributed', 'mutual', 'exclusion', 'distributed', 'transaction', 'naming', 'generic', 'scheme', 'n', 'naming', 'localization', 'replication', 'coherence', 'consistency', 'model', 'protocol', 'fault', 'tolerance', 'group', 'communication', 'two', 'three', 'phase', 'commit', 'check', 'pointing', 'security', 'access', 'control', 'key', 'management', 'cryptography', 'distributed', 'file', 'system', 'n', 'f', 'coda', 'etc'], ['identification', 'p', 'c', 'part', 'peripheral', 'device', 'function', 'application', 'use', 'safety', 'precaution', 'procedure', 'booting', 'p', 'c', 'filing', 'system', 'directory', 'sub', 'directory', 'file', 'path', 'locate', 'word', 'processing', 'principle', 'operation', 'application', 'demonstration', 'practical', 'hand', 'exercise', 'word', 'processing', 'using', 'popular', 'word', 'processing', 'package', 'internet', 'service', 'available', 'principle', 'operation', 'application', 'demonstration', 'hand', 'practical', 'exercise', 'e', 'mail', 'w', 'using', 'popular', 'browser', 'schematic', 'diagram', 'computer', 'hardware', 'computer', 'software', 'understanding', 'computer', 'memory', 'storage', 'preparing', 'use', 'computer', 'category', 'computer', 'advantage', 'disadvantage', 'using', 'computer', 'caring', 'computer', 'economics', 'analogy', 'digital', 'signal', 'mode', 'data', 'transmission', 'communication', 'hardware', 'computer', 'network', 'type', 'network', 'network', 'topology', 'home', 'networking', 'network', 'architecture', 'computer', 'society', 'e', 'learning', 'e', 'government', 'e', 'health', 'e', 'banking', 'e_commerce', 'e', 'jury', 'e', 'court', 'e', 'filling'], ['spreadsheet', 'principle', 'operation', 'application', 'demonstration', 'practical', 'hand', 'exercise', 'spreadsheet', 'using', 'popular', 'spreadsheet', 'package', 'database', 'management', 'principle', 'operation', 'application', 'demonstration', 'practical', 'hand', 'exercise', 'using', 'popular', 'relational', 'database', 'management', 'package', 'report', 'presentation', 'software', 'package', 'principle', 'operation', 'application', 'demonstration', 'practical', 'hand', 'exercise', 'using', 'popular', 'report', 'presentation', 'package', 'power', 'point', 'package', 'mini', 'project', 'test', 'proficiency', 'use', 'software', 'package'], ['approach', 'resource', 'person', 'drawn', 'academic', 'industry', 'way', 'bridging', 'gap', 'town', 'gown', 'student', 'exposed', 'actual', 'industrial', 'environment', 'objective', 'foundation', 'course', 'aimed', 'departing', 'entrepreneurial', 'orientation', 'skill', 'student', 'topic_covered', 'include_following', 'basic', 'concept', 'definition', 'entrepreneurship', 'entrepreneurial', 'equation', 'historical', 'background', 'entrepreneurship', 'definition', 'entrepreneurship', 'entrepreneur', 'characteristic', 'entrepreneurship', 'quality', 'successful', 'entrepreneur', 'entrepreneurship', 'economic', 'growth', 'environment', 'entrepreneur', 'development', 'entrepreneurship', 'involves', 'element', 'entrepreneurship', 'component', 'entrepreneurial', 'venture', 'fundamental', 'change', 'stimulate', 'entrepreneurship', 'entrepreneurial', 'process', 'benefit', 'entrepreneur', 'contribution', 'memorable', 'early', 'entrepreneur', 'time', 'management', 'student', 'also', 'expected', 'submit', 'term', 'paper', 'entrepreneurship', 'selected', 'area', 'small_medium', 'scale', 'enterprise', 'operation'], ['topic_covered', 'include_following', 'generating', 'entrepreneurial', 'idea', 'translating', 'action', 'source', 'approach', 'study', 'entrepreneurship', 'constraint', 'launching', 'business', 'youth', 'money', 'management', 'investment', 'introduction', 'capital', 'market', 'classification', 'entrepreneur', 'economic', 'importance', 'entrepreneurship', 'entrepreneurial', 'window', 'factor', 'influence', 'entrepreneurship', 'practice', 'entrepreneurship', 'productivity', 'salaried', 'employment', 'v', 'entrepreneurship', 'introduction', 'marketing', 'management', 'form', 'business', 'organization', 'advantage', 'disadvantage', 'introduction', 'international', 'trade', 'student', 'also', 'expected', 'submit', 'term', 'paper', 'entrepreneurship', 'selected', 'area', 'small_medium', 'scale', 'enterprise', 'operation'], ['objective', 'course', 'continuation', 'ed', 'one', 'point', 'course', 'aimed', 'exposing', 'student', 'opportunity', 'entrepreneurship', 'basic', 'characteristic', 'required', 'successful', 'performance', 'entrepreneur', 'using', 'related', 'biographical', 'study', 'entrepreneur', 'management', 'giant', 'case', 'study', 'topic_covered', 'include_following', 'relevance', 'entrepreneurial', 'e', 'nation', 'society', 'individual', 'biographical', 'study', 'business', 'thinker', 'entrepreneur', 'management', 'giant', 'introduction', 'international', 'entrepreneurship', 'entrepreneurship', 'localization', 'accelerated', 'industrialization', 'active', 'promotion', 'development', 'e', 'e', 'definition', 'advantage', 'disadvantage', 'management', 'challenge', 'e', 'managing', 'business', 'growth', 'student', 'also', 'expected', 'submit', 'term', 'paper', 'entrepreneurship', 'selected', 'area', 'e', 'small_medium', 'scale', 'enterprise', 'activity', 'operation', 'etc'], ['topic_covered', 'include_following', 'biographical', 'study', 'business', 'thinker', 'entrepreneur', 'management', 'giant', 'nigeria', 'africa', 'europe', 'theoretical', 'framework', 'entrepreneurship', 'feasibility', 'study', 'marketing', 'management', 'entrepreneurship', 'impact', 'modern', 'technology', 'entrepreneurial', 'venture', 'developing', 'country', 'e', 'challenge', 'prospect', 'financing', 'e', 'nigeria', 'planning', 'e', 'capital', 'market', 'term', 'paper', 'entrepreneurship', 'selected', 'area', 'e', 'small_medium', 'scale', 'enterprise', 'operation'], ['objective', 'expose', 'student', 'greater', 'depth', 'practical', 'aspect', 'entrepreneurship', 'particularly', 'development', 'skill', 'aim', 'distinguish', 'covenant', 'university', 'graduate', 'graduate', 'institution', 'higher', 'learning', 'practicum', 'student', 'sent', 'entrepreneurial', 'village', 'group', 'skill', 'acquisition', 'different', 'specialization', 'field', 'mini', 'trade', 'fair', 'organized', 'student', 'display', 'product', 'program', 'includes', 'theoretical', 'practical', 'aspect', 'entrepreneurship', 'production', 'quality', 'control', 'entrepreneurship', 'material', 'management', 'taught', 'specialized', 'field', 'include', 'tailoring', 'carpentry', 'millinery', 'hat', 'mechanical', 'catering', 'shoe', 'making', 'interior', 'decoration', 'software', 'development', 'candle', 'soap', 'making', 'fishery', 'farming', 'snail', 'rearing', 'poultry', 'farming', 'piggery', 'textile', 'development', 'tie', 'cooking', 'paint', 'manufacturing', 'photography', 'ice', 'cream', 'making', 'saloon', 'barring', 'etc'], ['objective', 'expose', 'student', 'issue', 'entrepreneurship', 'topic_covered', 'include_following', 'various', 'function', 'entrepreneurship', '–', 'financing', 'production', 'marketing', 'personnel', 'management', 'entrepreneurial', 'succession', 'issue', 'succession', 'challenge', 'prospect', 'taking', 'entrepreneur', 'stock', 'market', 'international', 'entrepreneurship', 'funding', 'entrepreneurial', 'activity', 'term', 'paper', 'entrepreneurship', 'selected', 'area', 'e', 'small_medium', 'scale', 'enterprise', 'operation'], ['issue', 'entrepreneurship', 'management', 'e', 'part', 'topic_covered', 'include_following', 'reviewing', 'appraising', 'various', 'strategy', 'skill', 'poverty', 'alleviation', 'employment', 'e', 'entrepreneurial', 'environment', 'type', 'appraisal', 'contending', 'environment', 'nigeria', 'africa', 'third', 'world', 'country', 'incorporating', 'company', 'practical', 'step', 'issue', 'involved', 'translating', 'four', 'phase', 'business', 'reality', 'small_medium', 'greater', 'depth', 'practical', 'issue', 'launching', 'growing', 'harvesting', 'entrepreneurial', 'outfit', 'issue', 'involved', 'partnership', 'corporation', 'formation', 'final', 'project', 'presentation', 'dream', 'business', 'feasibility', 'study', 'entrepreneurship', 'etc'], ['course', 'focus', 'developing', 'effective', 'study', 'skill', 'library', 'information', 'source', 'communication', 'skill', 'listening', 'speaking', 'skill'], ['course', 'focus', 'introducing', 'basic', 'aspect', 'english', 'grammar', 'developing', 'effective', 'reading', 'writing', 'skill', 'across', 'discipline', 'style', 'communication', 'revision', 'self', 'editing', 'strategy', 'skill', 'exciting', 'information', 'simple', 'literary', 'text', 'survey', 'nigerian', 'african', 'literary', 'tradition'], ['basic', 'grammatical', 'structure', 'relevant', 'item', 'vocabulary', 'lexical', 'item', 'french', 'language', 'essential', 'french', 'language', 'pronunciation', 'recognition', 'french', 'sound', 'greeting', 'introducing', 'self', 'meeting', 'people', 'introducing', 'describing', 'people', 'profession', 'nationality', 'describing', 'self', 'family', 'school', 'telling', 'age', 'day', 'week', 'month', 'year', 'describing', 'place', 'country', 'city', 'town', 'making', 'request', 'making', 'travel', 'arrangement', 'departure', 'arrival', 'destination', 'ordering', 'meal', 'restaurant', 'shopping', 'clothes', 'item', 'banking', 'transaction', 'visitor', 'tourist'], ['aim', 'course', 'expose', 'student', 'meaning', 'philosophy', 'brief', 'survey', 'branch', 'discussing', 'major', 'branch', 'emphasis', 'logic', 'topic', 'taught', 'respect', 'include', 'symbolic', 'logic', 'quantificational', 'theory', 'logical', 'rule', 'sub', 'topic', 'include', 'argument', 'evidence', 'fallacy', 'statement', 'sentence', 'law', 'thought', 'rule', 'inference', 'deduction', 'analogical', 'reasoning', 'course', 'also', 'provide', 'valuable', 'insight', 'origin', 'content', 'traditional', 'logic'], ['concept', 'culture', 'study', 'nigerian', 'history', 'culture', 'art', 'colonial', 'time', 'social', 'belief', 'nigerian', 'perception', 'world', 'culture', 'area', 'nigeria', 'characteristic', 'evolution', 'nigeria', 'political', 'unit', 'indigene', 'settler', 'phenomenon', 'concept', 'trade', 'economic', 'self', 'reliance', 'social', 'justice', 'individual', 'national', 'development', 'norm', 'value', 'negative', 'attitude', 'conduct', 'cultism', 'related', 'orientation', 'moral', 'national', 'value', 'well', 'moral', 'obligation', 'citizen', 'environmental', 'problem'], ['concept', 'conflict', 'definition', 'constructive', 'destructive', 'angle', 'understand', 'conflict', 'cause', 'conflict', 'contradiction', 'value', 'system', 'competition', 'scarce', 'resource', 'psychological', 'need', 'people', 'perception', 'others', 'circumstance', 'manipulation', 'information', 'conflict', 'handling', 'style', 'avoidance', 'confrontation', 'role', 'playing', 'third', 'party', 'decision_making', 'joint', 'problem', 'solving', 'compromising', 'life', 'angle', 'conflict', 'organization', 'transformation', 'concept', 'peace', 'definition', 'concept', 'peace', 'making', 'peace', 'keeping', 'power', 'conflict', 'type', 'power', 'expert', 'power', 'referent', 'power', 'legitimate', 'power', 'reward', 'power', 'coercive', 'power'], ['focus', 'course', 'shall', 'discipline', 'science', 'present', 'held', 'high', 'esteem', 'greatest', 'agent', 'development', 'twentyfirst', 'century', 'course', 'survey', 'philosophical', 'foundation', 'science', 'major', 'topical', 'issue', 'philosophy', 'science', 'treated', 'begin', 'brief', 'account', 'role', 'metaphysics', 'scientific', 'explanation', 'determinism', 'science', 'student', 'shall', 'therefore', 'expected', 'among', 'thing', 'examine', 'main', 'area', 'philosophy', 'meaning', 'characteristic', 'science', 'explanation', 'science', 'objective', 'method', 'law', 'theory', 'view', 'justifying', 'debunking', 'superiority', 'accorded', 'discipline', 'science', 'discipline', 'becomes', 'necessary', 'course', 'shall', 'also', 'treat', 'philosophical', 'thought', 'thinker', 'like', 'karl', 'popper', 'copernicus', 'newton', 'fereyarband'], ['algebra', 'set', 'theory', 'definition', 'concept', 'law', 'algebra', 'set', 'venn', 'diagram', 'application', 'real', 'number', 'rational', 'number', 'theory', 'surd', 'sequence', 'series', 'including', 'binomial', 'theorem', 'theory', 'quadratic', 'cubic', 'quadratic', 'equation', 'index', 'logarithm', 'mathematical', 'induction', 'partial', 'fraction', 'theory', 'equation', 'inequality', 'polynomial', 'including', 'factor', 'remainder', 'complex', 'number', 'algebra', 'complex', 'number', 'argand', 'diagram', 'multiplication', 'division', 'number', 'polar', 'form', 'nth', 'root', 'unity', 'theorem', 'expansion', 'sin', 'co', 'tan'], ['trigonometry', 'analytic', 'geometry', 'two', 'three', 'element', 'trigonometry', 'circular', 'measure', 'elementary', 'treatment', 'circle', 'coordinate', 'geometry', 'straight', 'line', 'two', 'b', 'plan', 'function', 'relation', 'permutation', 'algebra', 'function', 'binary', 'operation', 'permutation', 'combination', 'elementary', 'treatment', 'logic'], ['function', 'real', 'variable', 'graph', 'limit', 'concept', 'continuity', 'technique', 'differentiation', 'algebraic', 'trigonometric', 'function', 'higher', 'order', 'derivative', 'maximum', 'minimum', 'liebnitz', 'rule', 'application', 'differentiation', 'integration', 'inverse', 'differentiation', 'method', 'integration', 'definite', 'integral', 'application', 'area', 'volume', 'moment', 'inertia', 'approximate', 'integration', 'trapezoidal', 'rule', 'theorem', 'partial', 'differentiation', 'implicit', 'differentiation'], ['three', 'cartesian', 'coordinate', 'system', 'definition', 'representation', 'vector', 'algebra', 'vector', 'multiplication', 'vector', 'scalar', 'addition', 'vector', 'scalar', 'product', 'two', 'vector', 'vector', 'product', 'two', 'vector', 'direction', 'cosine', 'calculus', 'vector', 'function', 'differentiation', 'vector', 'function', 'integration', 'vector', 'function', 'conic', 'circle', 'parabola', 'ellipse', 'hyperbola', 'kinematics', 'particle', 'basic', 'concept', 'motion', 'constant', 'acceleration', 'motion', 'variable', 'acceleration', 'rectilinear', 'motion', 'motion', 'plane', 'force'], ['history', 'motivation', 'mi', 'management', 'structure', 'mi', 'role', 'information_system', 'management', 'computer', 'information', 'processing', 'information', 'processing', 'software', 'managing', 'data', 'resource', 'digital', 'firm', 'e_commerce', 'e', 'business', 'opportunity', 'redesigning', 'organization', 'information_system', 'enhancing', 'management', 'decision_making', 'information_system', 'security', 'control', 'using', 'competitive', 'advantage', 'accounting', 'information_system', 'financial', 'information_system', 'market', 'information_system', 'manufacturing', 'information_system', 'geographic', 'information_system', 'medical', 'information_system', 'information_system', 'architecture', 'wiretapping', 'encryption', 'advantage', 'disadvantage', 'stand', 'alone', 'v', 'network', 'computer', 'acquisition', 'source', 'software', 'package', 'advantage', 'disadvantage', 'organising', 'data', 'information', 'data', 'warehouse', 'data', 'mart', 'internet', 'intranet', 'extranet', 'relationship', 'change', 'customer', 'marketing', 'process', 'decision', 'support', 'system', 'artificial', 'intelligence', 'expert', 'system', 'business', 'system', 'development', 'life', 'cycle', 'ethical', 'social', 'impact', 'information_system', 'managing', 'hardware', 'asset', 'software', 'asset', 'data', 'resource', 'information_system', 'organisation', 'management', 'strategy'], ['basic', 'concept', 'scientific', 'inquiry', 'scientific', 'research', 'meaning', 'basic', 'step', 'basic', 'applied', 'research', 'concept', 'theory', 'law', 'hypothesis', 'research', 'design', 'choosing', 'research', 'topic', 'problem', 'analysis', 'literature', 'review', 'model', 'building', 'conceptual', 'framework', 'research', 'proposal', 'sampling', 'technique', 'data', 'collection', 'technique', 'data', 'type', 'secondary', 'data', 'collection', 'strategy', 'survey', 'experiment', 'content', 'analysis', 'motivation', 'research', 'data', 'collection', 'instrument', 'e_g', 'interview', 'questionnaire', 'data', 'measurement', 'analysis', 'interpretation', 'measurement', 'scaling', 'validity', 'reliability', 'analysis', 'qualitative', 'statistical', 'data', 'presentation', 'table', 'chart', 'cross', 'tab', 'etc', 'report', 'audience', 'type', 'length', 'mechanical', 'aid', 'map', 'chart', 'business', 'research', 'nigeria', 'scope', 'problem', 'possibility', 'forty', 'five', 'h'], ['student', 'undergo', 'practical', 'job', 'training', 'industry', 'approved', 'relevance', 'major', 'minimum', 'fourteen', 'week', 'starting', 'immediately', 'alpha', 'examination', 'three', 'hundred', 'level', 'program', 'training', 'drawn', 'college', 'industry', 'student', 'prescribed', 'log', 'book', 'daily', 'recording', 'student', 'activity', 'kept', 'student', 'appropriately', 'signed', 'end', 'program', 'written', 'report', 'submitted', 'college', 'student', 'present', 'seminar', 'industrial', 'experience', 'student', 'must', 'pas', 'prescribed', 'certification', 'examination', 'second', 'industrial', 'training'], ['overview', 'introduction', 'knowledge_management', 'foundation', 'knowledge_management', 'including', 'cultural', 'issue', 'technology', 'application', 'organizational', 'concept', 'process', 'management', 'aspect', 'decision', 'support', 'system', 'evolution', 'knowledge_management', 'information', 'management', 'knowledge_management', 'key', 'challenge', 'facing', 'evolution', 'knowledge_management', 'ethic', 'knowledge_management', 'organization', 'knowledge_management', 'building', 'learning', 'organization', 'knowledge', 'market', 'cooperation', 'among', 'distributed', 'technical', 'specialist', 'tacit', 'knowledge', 'quality', 'assurance', 'telecommunication', 'network', 'knowledge_management', 'internet', 'search', 'engine', 'knowledge_management', 'information', 'technology', 'support', 'knowledge_management', 'knowledge_management', 'vocabulary', 'control', 'information', 'mapping', 'information', 'retrieval', 'information', 'coding', 'internet', 'environment', 'repackaging', 'information', 'component', 'knowledge', 'strategy', 'case', 'study', 'library', 'knowledge', 'center', 'knowledge_management', 'health', 'science', 'knowledge_management', 'developing', 'country', 'etc'], ['accounting', 'system', 'concept', 'model', 'processing', 'accounting', 'information', 'managerial', 'accounting', 'system', 'system', 'concept', 'accounting', 'developing', 'accounting', 'system', 'system', 'development', 'process', 'analysis', 'design', 'implementation', 'operation', 'technology', 'accounting', 'system', 'computer', 'software', 'configuration', 'date', 'processing', 'storage', 'file', 'processing', 'method', 'control', 'internal', 'control', 'information_system', 'control', 'data', 'security', 'integrity', 'processing', 'accounting', 'transaction', 'cycle', 'revenue', 'expenditure', 'financial', 'cycle', 'application'], ['team', 'management', 'project', 'scheduling', 'software', 'measurement', 'estimation', 'technique', 'risk', 'analysis', 'software', 'quality', 'assurance', 'software', 'configuration', 'management', 'project', 'management', 'tool'], ['business', 'analysis', 'analysis', 'forecasting', 'financial', 'statement', 'financial', 'modeling', 'planning', 'controlling', 'growth', 'business', 'enterprise', 'quantitative', 'finance', 'investment', 'analysis', 'capital', 'market', 'derivative', 'capital', 'budgeting', 'designing', 'issuing', 'security', 'manager', 'performance', 'evaluation', 'resolution', 'agency', 'problem', 'working', 'capital', 'management', 'corporate', 'finance', 'risk', 'decision', 'support', 'system', 'end', 'user', 'computing', 'risk', 'management', 'information', 'knowledge_management', 'software', 'tool', 'value', 'based', 'customer', 'relationship', 'process', 'management', 'research', 'method', 'emphasis', 'function', 'point', 'analysis', 'structured', 'system', 'analysis', 'design'], ['e_commerce', 'definition', 'history', 'e_commerce', 'selling', 'web', 'business', 'business', 'b', 'two', 'business', 'customer', 'b', 'two', 'business', 'government', 'b', 'two', 'model', 'standard', 'e_commerce', 'standard', 'agreement', 'set', 'others', 'solving', 'problem', 'searching', 'informed', 'search', 'method', 'game', 'playing', 'online', 'banking', 'virtual', 'shopping', 'century', 'portal', 'vortals', 'web', 'server', 'hardware', 'software', 'security', 'installing', 'new', 'web', 'server', 'designing', 'maintaining', 'webpage', 'website', 'administration', 'advertising', 'website', 'using', 'c_g', 'e_commerce', 'c_g', 'authoring', 'tool', 'applet', 'servlet', 'solution', 'handling', 'credit', 'card', 'secure', 'transport', 'processing', 'credit', 'card', 'using', 'j', 'b', 'c', 'e_commerce', 'interaction', 'example', 'virtual', 'shopping', 'cart', 'auction', 'engine', 'standard', 'c_g', 'library', 'configuration', 'storage', 'device', 'file', 'string', 'replacement', 'facility', 'credit', 'card', 'transaction', 'processing', 'single', 'page', 'c_g', 'shopping', 'cart', 'c_g', 'web', 'query', 'language', 'embedded', 'q', 'l', 'development', 'e_commerce', 'site', 'using', 'c_g', 'java', 'database', 'future', 'trend', 'set', 'top', 'box', 'v', 'interface', 'emerging', 'technology'], ['history', 'development', 'basic', 'concept', 'paradigm', 'architecture', 'component', 'class', 'decision', 'support', 'tool', 'decision', 'style', 'comparison', 'statistical', 'decision_making', 'method', 'cognitive', 'process', 'brainstorming', 'bounded', 'rationality', 'adaptive', 'structured', 'design', 'effectiveness', 'efficiency', 'criterion', 'group', 'collaborative', 'competitive', 'co', 'located', 'non', 'collected', 'group', 'organisational', 'learning', 'group', 'decision', 'support', 'system', 'software', 'identification', 'groupware', 'lotus', 'note', 'domino', 'optimisation', 'model', 'satisfying', 'model', 'visualisation', 'fuzzy', 'decision_making', 'concept', 'neural', 'network', 'application', 'decision_making', 'expert', 'system', 'artificial', 'intelligence', 'knowledge', 'engineering', 'data', 'warehousing', 'data', 'mining'], ['introductory', 'course', 'problem', 'production', 'include', 'theoretical', 'foundation', 'production', 'management', 'well', 'application', 'decision_making', 'technique', 'production', 'problem', 'firm', 'considers', 'production', 'process', 'plant', 'layout', 'maintenance', 'scheduling', 'quality', 'control', 'production', 'control', 'particular', 'including', 'depth', 'treatment', 'concept', 'involved', 'designing', 'implementing', 'planning', 'control', 'system', 'within', 'context', 'dynamic', 'environment', 'particular', 'emphasis', 'systematic', 'use', 'information', 'maintain', 'efficient', 'flow', 'material', 'utilization', 'people', 'technology', 'coordination', 'supplier', 'communication', 'customer'], ['definition', 'management', 'need', 'theory', 'technique', 'management', 'managerial', 'transformation', 'process', 'evolution', 'management', 'theory', 'theory', 'management', 'concept', 'manager', 'management', 'function', 'management', 'developing', 'country', 'production', 'nigeria', 'main', 'cause', 'low', 'productivity', 'management', 'grid', 'management', 'objective', 'practice', 'construction', 'management', 'expatriate', 'management', 'approach', 'work', 'nigeria', 'organization', 'theory', 'observable', 'way', 'nigeria', 'enterprise', 'managed', 'securing', 'productivity', 'work', 'criterion', 'locating', 'bad', 'management', 'group', 'conflict', 'organization'], ['supply_chain', 'management', 'overview', 'purchasing', 'management', 'supplier', 'supply_chain', 'relationship', 'management', 'global', 'dimension', 'supply_chain', 'collaborative', 'planning', 'forecasting', 'replenishment', 'enterprise', 'resource', 'planning', 'system', 'supply_chain', 'information', 'flow', 'demand', 'management', 'order', 'management', 'customer', 'service', 'inventory', 'inventory', 'supply_chain', 'process', 'management', 'j', 'u', 'n', 'e', 'total', 'quality', 'management', 'flow', 'supply', 'chairman', 'fulfillment', 'operation', 'supply_chain', 'network', 'analysis', 'design', 'strategic', 'sourcing', 'material', 'service', 'successful', 'supply_chain', 'management', 'good', 'service', 'logistics', 'management', 'role', 'logistics', 'supply_chain', 'customer', 'relationship', 'management', 'location', 'decision', 'service', 'response', 'logistics', 'process', 'integration', 'performance', 'supply_chain', 'performance', 'measurement', 'financial', 'analysis', 'supply_chain', 'sustainability', 'strategic', 'challenge', 'change', 'supply_chain'], ['student', 'required', 'undertake', 'project', 'giving', 'productivity', 'value', 'academic', 'knowledge', 'gained', 'project', 'shall', 'involve', 'problem', 'solving', 'using', 'computer', 'science', 'management', 'theory', 'technique', 'end', 'first', 'semester', 'student', 'shall', 'present', 'first', 'seminar', 'project'], ['marketing', 'marketing', 'begin', 'evolution', 'concept', 'marketing', 'classifying', 'product', 'new', 'product', 'diffusion', 'innovation', 'product', 'life', 'cycle', 'developing', 'strategy', 'new', 'existing', 'product', 'creating', 'product', 'identity', 'braiding', 'decision', 'packaging', 'labeling', 'decision', 'delivering', 'managing', 'service', 'importance', 'pricing', 'decision', 'demand', 'influence', 'pricing', 'decision', 'cost', 'demand', 'revenue', 'deciding', 'price', 'deciding', 'pricing', 'objective', 'pricing', 'strategy', 'importance', 'distribution', 'structure', 'channel', 'type', 'distribution', 'channel', 'type', 'wholesaler', 'type', 'store', 'retailing', 'non', 'store', 'retailing', 'direct', 'selling', 'advertising', 'sale', 'promotion', 'public', 'relation', 'major', 'decision', 'advertising', 'type', 'sale', 'promotion', 'sale', 'promotion', 'process', 'function', 'tool', 'public', 'relation', 'importance', 'personal', 'selling', 'selling', 'process', 'major', 'step', 'sale', 'force', 'management', 'defining', 'business', 'mission', 'setting', 'corporate', 'goal', 'objective', 'business', 'portfolio', 'marketing', 'planning', 'process', 'analysis', 'marketing', 'environment', 'set', 'marketing', 'objective', 'develop', 'marketing', 'strategy', 'prepare', 'marketing', 'plan', 'organize', 'implementation', 'establish', 'control', 'process', 'importance', 'information', 'component', 'marketing', 'information_system', 'developing', 'information', 'marketing', 'research', 'procedure', 'individual', 'influence', 'consumer', 'behaviour', 'external', 'influence', 'consumer', 'behaviour', 'external', 'influence', 'consumer', 'behaviour', 'consumer', 'decision', 'process', 'characteristic', 'business', 'market', 'business', 'buying', 'decision', 'process', 'new', 'era', 'marketing', 'internal', 'business', 'environment', 'external', 'business', 'environment', 'external', 'business', 'environment', 'global', 'marketing', 'environment', 'deciding', 'enter', 'market', 'global', 'marketing', 'program', 'multinational', 'environment'], ['unit', 'dimension', 'scalar', 'vector', 'particle', 'kinematics', 'newton', 'law', 'friction', 'work', 'energy', 'centre', 'mass', 'simple', 'harmonic', 'motion', 'rigid', 'body', 'dynamic', 'law', 'pressure', 'fluid', 'intermolecular', 'force', 'law', 'young', 'modulus', 'fluid', 'flow', 'streamline', 'turbulence', 'law', 'surface', 'tension'], ['course', 'provides', 'explanatory', 'construct', 'c', 'course', 'study', 'understanding', 'life', 'development', 'total', 'man', 'provides', 'basic', 'introduction', 'fundamental', 'aspect', 'total', 'man', 'concept', 'exploring', 'life', 'biblical', 'philosophical', 'experiential', 'perspective', 'also', 'set', 'explore', 'purpose', 'pursuit', 'life', 'view', 'identifying', 'foundational', 'anchor', 'life', 'place', 'vision', 'dream', 'goal', 'foundational', 'principle', 'making', 'life'], ['jogging', 'help', 'many', 'way', 'focus', 'benefit', 'logging', 'physical_fitness', 'reduced', 'risk', 'osteoporosis', 'osteoporosis', 'condition', 'bone', 'become', 'increasingly', 'porous', 'brittle', 'result', 'bone', 'fracture', 'deformity', 'aerobics', 'exercise', 'said', 'activity', 'get', 'heart', 'rate', 'going', 'keep', 'sustained', 'rate', 'period', 'time', 'e_g', 'twenty', 'minute', 'anaerobic', 'activity', 'help', 'increase', 'radio', 'respiratory', 'fitness', 'one', 'fine', 'essential', 'component', 'physical_fitness', 'aerobically', 'fit', 'feel', 'go', 'swimming', 'safety', 'importance', 'swimming', 'lesson', 'water', 'safety', 'overtaxed', 'everyone', 'especially', 'young', 'people', 'able', 'swim', 'swimming', 'lot', 'benefit', 'include', 'health', 'benefit', 'psychological', 'benefit', 'importantly', 'safety', 'benefit', 'involved', 'discipline', 'gathering', 'rule', 'governing', 'swimming', 'learning', 'basic', 'skill'], ['course', 'focus', 'exploration', 'self', 'relates', 'self', 'discovery', 'context', 'changing', 'life', 'course', 'stage', 'attempt', 'help', 'student', 'understanding', 'relation', 'god', 'context', 'human', 'system', 'spiritual', 'physical', 'psychological', 'cultural', 'ecological', 'dimension', 'self', 'development', 'positive', 'self', 'image', 'self', 'esteem', 'self', 'actualization', 'parameter', 'also', 'explored'], ['jogging', 'help', 'many', 'way', 'focus', 'benefit', 'logging', 'physical_fitness', 'reduced', 'risk', 'osteoporosis', 'osteoporosis', 'condition', 'bone', 'become', 'increasingly', 'porous', 'brittle', 'result', 'bone', 'fracture', 'deformity', 'aerobics', 'exercise', 'said', 'activity', 'get', 'heart', 'rate', 'going', 'keep', 'sustained', 'rate', 'period', 'time', 'e_g', 'twenty', 'minute', 'aerobic', 'activity', 'help', 'increase', 'cardiorespiratory', 'fitness', 'one', 'fine', 'essential', 'component', 'physical_fitness', 'aerobically', 'fit', 'feel', 'go', 'athletic', 'track', 'short', 'quarter', 'mile', 'institutional', 'athletics', 'programmer', 'represent', 'must', 'financial', 'industry', 'generally', 'linked', 'school', 'braiding', 'reputation', 'athletic', 'programmer', 'drive', 'enrolment', 'heighten', 'institutional', 'profile', 'often', 'resulting', 'financial', 'windfall', 'student', 'engaged'], ['focus', 'course', 'identification', 'building', 'block', 'self', 'development', 'context', 'personal', 'vision', 'mission', 'personal', 'capacity', 'building', 'major', 'self', 'motivational', 'block', 'power', 'place', 'focus', 'place', 'human', 'thought', 'process', 'enhance', 'thinking', 'reasoning', 'creativity'], ['jogging', 'help', 'many', 'way', 'focus', 'benefit', 'logging', 'physical_fitness', 'reduced', 'risk', 'osteoporosis', 'osteoporosis', 'condition', 'bone', 'become', 'increasingly', 'porous', 'brittle', 'result', 'bone', 'fracture', 'deformity', 'flexibility', 'exercise', 'flexibility', 'said', 'freedom', 'ease', 'motion', 'performed', 'within', 'individual', 'normal', 'anatomical', 'range', 'improve', 'flexibility', 'range', 'joint', 'muscle', 'person', 'engage', 'exercise', 'involves', 'flexion', 'adduction', 'extension', 'circumduction', 'various', 'joint', 'athletics', 'field', 'institutional', 'athletics', 'programmer', 'represent', 'must', 'financial', 'industry', 'generally', 'linked', 'school', 'braiding', 'reputation', 'athletic', 'programmer', 'drive', 'enrolment', 'heighten', 'institutional', 'profile', 'often', 'resulting', 'financial', 'windfall', 'student', 'engaged'], ['understanding', 'success', 'personal', 'profile', 'building', 'biographical', 'analysis', 'success', 'giant', 'form', 'emphasis', 'course', 'role', 'wisdom', 'context', 'success', 'explored', 'along', 'line', 'understanding', 'building', 'communicating', 'wisdom', 'addition', 'place', 'self', 'identity', 'building', 'explored', 'along', 'side', 'focus', 'identifying', 'personal', 'measure', 'inch', 'self', 'worth', 'self', 'appreciation', 'context', 'success'], ['jogging', 'help', 'many', 'way', 'focus', 'benefit', 'logging', 'physical_fitness', 'reduced', 'risk', 'osteoporosis', 'osteoporosis', 'condition', 'bone', 'become', 'increasingly', 'porous', 'brittle', 'result', 'bone', 'fracture', 'deformity', 'game', 'table', '–', 'center', 'mastery', 'basic', 'skill', 'game', 'situation', 'well', 'rule', 'regulation', 'governing', 'various_sport', 'attempted', 'focus', 'also', 'appreciation', 'various_sport', 'spirit', 'sportsmanship', 'taking', 'good', 'fate', 'athletic', 'field', 'institutional', 'athletics', 'programmer', 'represent', 'must', 'financial', 'industry', 'generally', 'linked', 'school', 'braiding', 'reputation', 'athletic', 'programmer', 'drive', 'enrolment', 'heighten', 'institutional', 'profile', 'often', 'resulting', 'financial', 'windfall', 'student', 'engaged'], ['course', 'examines', 'man', 'different', 'environmental', 'context', '–', 'biblical', 'biological', 'cultural', 'ecological', 'emphasis', 'civic', 'social', 'responsibility', 'man', 'society', 'expectation', 'community', 'living', 'place', 'social', 'relationship', 'diversity', 'issue', 'difference', 'conflict', 'family', 'issue', 'explored', 'looking', 'mandate', 'current', 'trend', 'challenge'], ['aerobics', 'cardio', 'respiratory', 'aerobics', 'exercise', 'said', 'activity', 'get', 'heart', 'rate', 'going', 'keep', 'sustained', 'rate', 'period', 'time', 'e_g', 'twenty', 'minute', 'aerobic', 'activity', 'help', 'increase', 'cardiorespiratory', 'fitness', 'one', 'fine', 'essential', 'component', 'physical_fitness', 'aerobically', 'fit', 'feel', 'go', 'game', 'modified', 'modified', 'level', 'sport', 'prepares', 'student', 'real', 'activity', 'beyond', 'philosophy', 'modified', 'maximize', 'participation', 'playing', 'time', 'student', 'level', 'focus', 'growth', 'basic', 'skill', 'sportsmanship', 'event', 'make', 'every', 'attempt', 'include', 'many', 'student', 'possible', 'team', 'athletics', 'field', 'institutional', 'athletics', 'programmer', 'represent', 'must', 'financial', 'industry', 'generally', 'linked', 'school', 'braiding', 'reputation', 'athletic', 'programmer', 'drive', 'enrolment', 'heighten', 'institutional', 'profile', 'often', 'resulting', 'financial', 'windfall', 'student', 'engaged'], ['course', 'examines', 'building', 'block', 'leadership', 'development', 'context', 'providing', 'overview', 'broad', 'dimension', 'leadership', 'course', 'also', 'explores', 'enhancement', 'leadership', 'trait', 'power', 'influence', 'qualifies', 'dynamic', 'leadership'], ['game', 'soccer', 'centre', 'mastery', 'basic', 'skill', 'game', 'situation', 'well', 'rule', 'regulation', 'governing', 'various_sport', 'attempted', 'focus', 'also', 'appreciation', 'various_sport', 'spirit', 'sportsmanship', 'taking', 'good', 'fate', 'aerobics', 'exercise', 'said', 'activity', 'get', 'heart', 'rate', 'going', 'keep', 'sustained', 'rate', 'period', 'time', 'e_g', 'twenty', 'minute', 'aerobic', 'activity', 'help', 'increase', 'cardiorespiratory', 'fitness', 'one', 'fine', 'essential', 'component', 'physical_fitness', 'aerobically', 'fit', 'feel', 'go', 'muscle', 'tone', 'improves', 'work', 'proper', 'running', 'technique'], ['leadership', 'development', 'part', 'continuation', 'c', 'four', 'hundred', 'eleven', 'point', 'second', 'part', 'course', 'leadership', 'development', 'examines', 'biographical', 'detail', 'leadership', 'trait', 'style', 'biblical', 'historical', 'figure', 'identifies', 'specific', 'lesson', 'developing', 'leadership', 'trait', 'sensitivity', 'specific', 'character', 'study', 'examine', 'leadership', 'style', 'jesus', 'moses', 'joshua', 'gideon', 'alexander', 'great', 'nelson', 'mandela', 'nnamdi', 'azikwe', 'etc'], ['jogging', 'help', 'many', 'way', 'focus', 'benefit', 'logging', 'physical_fitness', 'reduced', 'risk', 'osteoporosis', 'osteoporosis', 'condition', 'bone', 'become', 'increasingly', 'porous', 'brittle', 'result', 'bone', 'fracture', 'deformity', 'game', 'basketball', 'centre', 'mastery', 'basic', 'skill', 'game', 'situation', 'well', 'rule', 'regulation', 'governing', 'various_sport', 'attempted', 'focus', 'also', 'appreciation', 'various_sport', 'spirit', 'sportsmanship', 'taking', 'good', 'fate']]\n"
     ]
    }
   ],
   "source": [
    "# Find bigrams in the texts\n",
    "texts2 =[]\n",
    "from gensim.models import Phrases\n",
    "bigram = Phrases(preprocessed_docs) # find bigrams\n",
    "for t in preprocessed_docs:\n",
    " texts2.append(bigram[t]) # append the bigrams version of the text\n",
    "print(texts2)"
   ]
  },
  {
   "cell_type": "code",
   "execution_count": 9,
   "metadata": {},
   "outputs": [],
   "source": [
    "from sklearn.feature_extraction.text import TfidfVectorizer\n",
    "from sklearn.decomposition import TruncatedSVD\n",
    "\n",
    "preprocessed_input= [\" \".join(x) for x in texts2]\n",
    "vectorizer = TfidfVectorizer(use_idf=True)\n",
    "X = vectorizer.fit_transform(preprocessed_input)"
   ]
  },
  {
   "cell_type": "code",
   "execution_count": 10,
   "metadata": {},
   "outputs": [
    {
     "data": {
      "text/plain": [
       "(79, 1531)"
      ]
     },
     "execution_count": 10,
     "metadata": {},
     "output_type": "execute_result"
    }
   ],
   "source": [
    "X[0]\n",
    "X.shape"
   ]
  },
  {
   "cell_type": "code",
   "execution_count": 13,
   "metadata": {},
   "outputs": [
    {
     "name": "stdout",
     "output_type": "stream",
     "text": [
      "[(0, 1), (1, 1), (2, 1), (3, 1), (4, 1), (5, 1), (6, 1), (7, 1), (8, 1), (9, 1), (10, 1), (11, 1), (12, 1), (13, 1), (14, 1), (15, 1), (16, 1), (17, 1), (18, 1), (19, 1), (20, 1)]\n"
     ]
    }
   ],
   "source": [
    "import gensim\n",
    "import gensim.corpora as corpora\n",
    "\n",
    "# Create Dictionary\n",
    "id2word = corpora.Dictionary(texts2)\n",
    "\n",
    "# Create Corpus\n",
    "texts = texts2\n",
    "# Term Document Frequency\n",
    "corpus = [id2word.doc2bow(text) for text in texts]\n",
    "\n",
    "# View\n",
    "print(corpus[:1][0][:30])"
   ]
  },
  {
   "cell_type": "code",
   "execution_count": 14,
   "metadata": {},
   "outputs": [],
   "source": [
    "# Build LDA model\n",
    "lda_model = gensim.models.LdaMulticore(corpus=corpus,\n",
    "                                       id2word=id2word,\n",
    "                                       num_topics=25, \n",
    "                                       random_state=100,\n",
    "                                       chunksize=200,\n",
    "                                       passes=100,\n",
    "                                       per_word_topics=True)"
   ]
  },
  {
   "cell_type": "code",
   "execution_count": 28,
   "metadata": {},
   "outputs": [],
   "source": [
    "from sklearn.decomposition import LatentDirichletAllocation\n",
    "lda = LatentDirichletAllocation(n_components=20, random_state=1)\n",
    "lda.fit(X)\n",
    "lda_representation = lda.components_"
   ]
  },
  {
   "cell_type": "code",
   "execution_count": 30,
   "metadata": {},
   "outputs": [
    {
     "name": "stdout",
     "output_type": "stream",
     "text": [
      "[3 6 9 7 6 6 8 5 6 6 1 6 1 6 4 6 6 0 6 2]\n"
     ]
    }
   ],
   "source": [
    "from sklearn.cluster import KMeans\n",
    "kmeans = KMeans(n_clusters=10, random_state=0)\n",
    "kmeans.fit(lda_representation)\n",
    "clusters = kmeans.labels_\n",
    "print(clusters)"
   ]
  },
  {
   "cell_type": "code",
   "execution_count": 24,
   "metadata": {},
   "outputs": [
    {
     "data": {
      "text/plain": [
       "array([[0.15461388, 0.05      , 0.05      , ..., 0.14556753, 0.05      ,\n",
       "        0.05      ],\n",
       "       [0.05      , 0.05      , 0.05      , ..., 0.05      , 0.18312207,\n",
       "        0.05      ],\n",
       "       [0.05      , 0.05      , 0.05      , ..., 0.05      , 0.05      ,\n",
       "        0.29488744],\n",
       "       ...,\n",
       "       [0.05      , 0.2241548 , 0.05      , ..., 0.05      , 0.05      ,\n",
       "        0.05      ],\n",
       "       [0.05      , 0.05      , 0.05      , ..., 0.05      , 0.05      ,\n",
       "        0.05      ],\n",
       "       [0.05      , 0.05      , 0.05000038, ..., 0.05      , 0.05      ,\n",
       "        0.05      ]])"
      ]
     },
     "execution_count": 24,
     "metadata": {},
     "output_type": "execute_result"
    }
   ],
   "source": [
    "lda.components_"
   ]
  },
  {
   "cell_type": "code",
   "execution_count": 22,
   "metadata": {},
   "outputs": [
    {
     "ename": "NameError",
     "evalue": "name 'vocab' is not defined",
     "output_type": "error",
     "traceback": [
      "\u001b[1;31m---------------------------------------------------------------------------\u001b[0m",
      "\u001b[1;31mNameError\u001b[0m                                 Traceback (most recent call last)",
      "\u001b[1;32m<ipython-input-22-15600c4bb6b8>\u001b[0m in \u001b[0;36m<module>\u001b[1;34m\u001b[0m\n\u001b[0;32m      2\u001b[0m \u001b[0mn_top_words\u001b[0m \u001b[1;33m=\u001b[0m \u001b[1;36m8\u001b[0m\u001b[1;33m\u001b[0m\u001b[1;33m\u001b[0m\u001b[0m\n\u001b[0;32m      3\u001b[0m \u001b[1;32mfor\u001b[0m \u001b[0mi\u001b[0m\u001b[1;33m,\u001b[0m \u001b[0mtopic_dist\u001b[0m \u001b[1;32min\u001b[0m \u001b[0menumerate\u001b[0m\u001b[1;33m(\u001b[0m\u001b[0mtopic_word\u001b[0m\u001b[1;33m)\u001b[0m\u001b[1;33m:\u001b[0m\u001b[1;33m\u001b[0m\u001b[1;33m\u001b[0m\u001b[0m\n\u001b[1;32m----> 4\u001b[1;33m     \u001b[0mtopic_words\u001b[0m \u001b[1;33m=\u001b[0m \u001b[0mnp\u001b[0m\u001b[1;33m.\u001b[0m\u001b[0marray\u001b[0m\u001b[1;33m(\u001b[0m\u001b[0mvocab\u001b[0m\u001b[1;33m)\u001b[0m\u001b[1;33m[\u001b[0m\u001b[0mnp\u001b[0m\u001b[1;33m.\u001b[0m\u001b[0margsort\u001b[0m\u001b[1;33m(\u001b[0m\u001b[0mtopic_dist\u001b[0m\u001b[1;33m)\u001b[0m\u001b[1;33m]\u001b[0m\u001b[1;33m[\u001b[0m\u001b[1;33m:\u001b[0m\u001b[1;33m-\u001b[0m\u001b[1;33m(\u001b[0m\u001b[0mn_top_words\u001b[0m\u001b[1;33m+\u001b[0m\u001b[1;36m1\u001b[0m\u001b[1;33m)\u001b[0m\u001b[1;33m:\u001b[0m\u001b[1;33m-\u001b[0m\u001b[1;36m1\u001b[0m\u001b[1;33m]\u001b[0m\u001b[1;33m\u001b[0m\u001b[1;33m\u001b[0m\u001b[0m\n\u001b[0m\u001b[0;32m      5\u001b[0m     \u001b[0mprint\u001b[0m\u001b[1;33m(\u001b[0m\u001b[1;34m'Topic {}: {}'\u001b[0m\u001b[1;33m.\u001b[0m\u001b[0mformat\u001b[0m\u001b[1;33m(\u001b[0m\u001b[0mi\u001b[0m\u001b[1;33m,\u001b[0m \u001b[1;34m' '\u001b[0m\u001b[1;33m.\u001b[0m\u001b[0mjoin\u001b[0m\u001b[1;33m(\u001b[0m\u001b[0mtopic_words\u001b[0m\u001b[1;33m)\u001b[0m\u001b[1;33m)\u001b[0m\u001b[1;33m)\u001b[0m\u001b[1;33m\u001b[0m\u001b[1;33m\u001b[0m\u001b[0m\n",
      "\u001b[1;31mNameError\u001b[0m: name 'vocab' is not defined"
     ]
    }
   ],
   "source": [
    "topic_word = lda.components_  # model.components_ also works\n",
    "n_top_words = 8\n",
    "for i, topic_dist in enumerate(topic_word):\n",
    "    topic_words = np.array(vocab)[np.argsort(topic_dist)][:-(n_top_words+1):-1]\n",
    "    print('Topic {}: {}'.format(i, ' '.join(topic_words)))"
   ]
  },
  {
   "cell_type": "code",
   "execution_count": 19,
   "metadata": {},
   "outputs": [
    {
     "ename": "ModuleNotFoundError",
     "evalue": "No module named 'lda'",
     "output_type": "error",
     "traceback": [
      "\u001b[1;31m---------------------------------------------------------------------------\u001b[0m",
      "\u001b[1;31mModuleNotFoundError\u001b[0m                       Traceback (most recent call last)",
      "\u001b[1;32m<ipython-input-19-0fd27a413068>\u001b[0m in \u001b[0;36m<module>\u001b[1;34m\u001b[0m\n\u001b[0;32m      1\u001b[0m \u001b[1;32mimport\u001b[0m \u001b[0mnumpy\u001b[0m \u001b[1;32mas\u001b[0m \u001b[0mnp\u001b[0m\u001b[1;33m\u001b[0m\u001b[1;33m\u001b[0m\u001b[0m\n\u001b[1;32m----> 2\u001b[1;33m \u001b[1;32mimport\u001b[0m \u001b[0mlda\u001b[0m\u001b[1;33m\u001b[0m\u001b[1;33m\u001b[0m\u001b[0m\n\u001b[0m\u001b[0;32m      3\u001b[0m \u001b[0mmodel\u001b[0m \u001b[1;33m=\u001b[0m \u001b[0mlda\u001b[0m\u001b[1;33m.\u001b[0m\u001b[0mLDA\u001b[0m\u001b[1;33m(\u001b[0m\u001b[0mn_topics\u001b[0m\u001b[1;33m=\u001b[0m\u001b[1;36m20\u001b[0m\u001b[1;33m,\u001b[0m \u001b[0mn_iter\u001b[0m\u001b[1;33m=\u001b[0m\u001b[1;36m1500\u001b[0m\u001b[1;33m,\u001b[0m \u001b[0mrandom_state\u001b[0m\u001b[1;33m=\u001b[0m\u001b[1;36m1\u001b[0m\u001b[1;33m)\u001b[0m\u001b[1;33m\u001b[0m\u001b[1;33m\u001b[0m\u001b[0m\n\u001b[0;32m      4\u001b[0m \u001b[0mmodel\u001b[0m\u001b[1;33m.\u001b[0m\u001b[0mfit\u001b[0m\u001b[1;33m(\u001b[0m\u001b[0mX\u001b[0m\u001b[1;33m)\u001b[0m  \u001b[1;31m# model.fit_transform(X) is also available\u001b[0m\u001b[1;33m\u001b[0m\u001b[1;33m\u001b[0m\u001b[0m\n\u001b[0;32m      5\u001b[0m \u001b[0mtopic_word\u001b[0m \u001b[1;33m=\u001b[0m \u001b[0mmodel\u001b[0m\u001b[1;33m.\u001b[0m\u001b[0mtopic_word_\u001b[0m  \u001b[1;31m# model.components_ also works\u001b[0m\u001b[1;33m\u001b[0m\u001b[1;33m\u001b[0m\u001b[0m\n",
      "\u001b[1;31mModuleNotFoundError\u001b[0m: No module named 'lda'"
     ]
    }
   ],
   "source": [
    "import numpy as np\n",
    "import lda\n",
    "model = lda.LDA(n_topics=20, n_iter=1500, random_state=1)\n",
    "model.fit(X)  # model.fit_transform(X) is also available\n",
    "topic_word = model.topic_word_  # model.components_ also works\n",
    "n_top_words = 8\n",
    "for i, topic_dist in enumerate(topic_word):\n",
    "    topic_words = np.array(vocab)[np.argsort(topic_dist)][:-(n_top_words+1):-1]\n",
    "    print('Topic {}: {}'.format(i, ' '.join(topic_words)))"
   ]
  },
  {
   "cell_type": "code",
   "execution_count": null,
   "metadata": {},
   "outputs": [],
   "source": [
    "doc_topic = model.doc_topic_\n",
    "for i in range(10):\n",
    "    print(\"{} (top topic: {})\".format(titles[i], doc_topic[i].argmax()))"
   ]
  },
  {
   "cell_type": "code",
   "execution_count": 15,
   "metadata": {},
   "outputs": [
    {
     "name": "stdout",
     "output_type": "stream",
     "text": [
      "[15 14  9 11  3  3  3 14  1  7  2  7  7  9  7  2 13 13  3  1  7  9 14  9\n",
      "  7  3  1  2  5  2  1  1  8  8  8  8  8  8  6 11 11  4 12 15  4 12 13 14\n",
      " 14 13  1  3  8  6  1  9  9  1  9 14  5  5 12  6 12 15  0  4  0  4  0  4\n",
      "  0 15  0 10  0 10  0]\n"
     ]
    }
   ],
   "source": [
    "from sklearn.cluster import KMeans\n",
    "km=KMeans(n_clusters=16,n_init=25,random_state=23)\n",
    "km.fit(X)\n",
    "y_pred=km.predict(X)\n",
    "print(y_pred)"
   ]
  },
  {
   "cell_type": "code",
   "execution_count": null,
   "metadata": {},
   "outputs": [],
   "source": []
  }
 ],
 "metadata": {
  "kernelspec": {
   "display_name": "Python 3",
   "language": "python",
   "name": "python3"
  },
  "language_info": {
   "codemirror_mode": {
    "name": "ipython",
    "version": 3
   },
   "file_extension": ".py",
   "mimetype": "text/x-python",
   "name": "python",
   "nbconvert_exporter": "python",
   "pygments_lexer": "ipython3",
   "version": "3.7.3"
  }
 },
 "nbformat": 4,
 "nbformat_minor": 2
}
